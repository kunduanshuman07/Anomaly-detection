{
 "cells": [
  {
   "cell_type": "code",
   "execution_count": null,
   "metadata": {},
   "outputs": [],
   "source": [
    "import pandas as pd\n",
    "import numpy as np"
   ]
  },
  {
   "cell_type": "code",
   "execution_count": null,
   "metadata": {},
   "outputs": [],
   "source": [
    "df = pd.read_csv('../../Modbus_Data_EXP.csv')"
   ]
  },
  {
   "cell_type": "code",
   "execution_count": null,
   "metadata": {},
   "outputs": [],
   "source": [
    "df.head()"
   ]
  },
  {
   "cell_type": "code",
   "execution_count": null,
   "metadata": {},
   "outputs": [],
   "source": [
    "df.info()"
   ]
  },
  {
   "cell_type": "code",
   "execution_count": null,
   "metadata": {},
   "outputs": [],
   "source": [
    "df.describe()"
   ]
  },
  {
   "cell_type": "code",
   "execution_count": null,
   "metadata": {},
   "outputs": [],
   "source": [
    "for col in df:\n",
    "    print(col, df[col].dtype)"
   ]
  },
  {
   "cell_type": "code",
   "execution_count": null,
   "metadata": {},
   "outputs": [],
   "source": [
    "for col in df:\n",
    "    print(col, df[col].isnull().sum())"
   ]
  },
  {
   "cell_type": "code",
   "execution_count": null,
   "metadata": {},
   "outputs": [],
   "source": [
    "for col in df:\n",
    "    print(col, df[col].nunique())"
   ]
  },
  {
   "cell_type": "code",
   "execution_count": null,
   "metadata": {},
   "outputs": [],
   "source": [
    "for col in df.columns:\n",
    "    if 'Unnamed' in col:\n",
    "        if  df[col].isna().sum() == df.shape[0]:\n",
    "            df = df.drop(columns=[col])"
   ]
  },
  {
   "cell_type": "code",
   "execution_count": 42,
   "metadata": {},
   "outputs": [
    {
     "name": "stdout",
     "output_type": "stream",
     "text": [
      "TopicNo 0\n",
      "DeviceID 0\n",
      "runId 0\n",
      "count_of_frames_received_by_dstport 0\n",
      "segment_max_when_push_flag_set 0\n",
      "ttl_max 0\n",
      "ttl_min 0\n",
      "count_when_reset_and_ack_flag_set 0\n",
      "count_when_fin_or_syn_flag_set 0\n",
      "count_when_fin_and_syn_flag_set 0\n",
      "count_when_fin_flag_set 0\n",
      "count_when_ack_flag_set 0\n",
      "count_when_syn_flag_set 0\n",
      "count_when_reset_flag_set 0\n",
      "count_when_push_flag_set 0\n",
      "count_when_res_flag_set 0\n",
      "count_when_ns_flag_set 0\n",
      "count_when_cwr_flag_set 0\n",
      "count_when_ecn_flag_set 0\n",
      "count_when_urg_flag_set 0\n",
      "count_when_all_flag_not_set 0\n",
      "count_of_retransmitted_frames 0\n",
      "count_of_duplicate_frames 0\n",
      "count_of_BadTcp_frames 0\n",
      "count_of_distinct_ttl 0\n",
      "count_of_frames_sent 0\n",
      "avg_tcp_length 0\n",
      "avg_ip_length 0\n",
      "avg_frame_length 0\n",
      "avg_tcp_hdr_length 0\n",
      "avg_ip_hdr_length 0\n",
      "tcp_srcport 0\n",
      "tcp_dstport 0\n",
      "ip_src 0\n",
      "ip_dst 0\n",
      "ip_src_pair 0\n",
      "ip_dst_pair 0\n",
      "flowindicator 0\n",
      "windowstarttime 0\n",
      "avg_eth_len 0\n",
      "avg_ip_dsfield 0\n",
      "count_of_ip_dsfield_ecn_is_3 0\n",
      "count_when_ip_id_is_zero 0\n",
      "count_of_ip_flags_df_is_set 0\n",
      "count_of_ip_flags_df_is_reset 0\n",
      "count_of_ip_flags_mf_is_set 0\n",
      "count_of_ip_flags_mf_is_reset 0\n",
      "count_of_ip_frag_offset_is_non_zero 0\n",
      "count_of_ip_proto_is_greater_than_144 0\n",
      "count_of_ip_checksum_status_reset 0\n",
      "avg_tcp_window_size_value 0\n",
      "avg_tcp_window_size 0\n",
      "count_of_tcp_checksum_status_reset 0\n",
      "count_protocol_anomaly 0\n",
      "count_unsecure 0\n",
      "protocol_anomaly_count 0\n",
      "protocol_anomaly 211140\n",
      "eth_src 0\n",
      "eth_src_oui_resolved 0\n",
      "eth_dst 0\n",
      "eth_dst_oui_resolved 0\n",
      "count_when_push_urgent_flag_set 0\n",
      "count_when_push_reset_flag_set 0\n",
      "count_of_port_scanned 0\n",
      "count_of_handshake 0\n",
      "count_of_src_ip_sessions 0\n",
      "count_of_dst_ip_sessions 0\n",
      "count_of_repeated_handshake 0\n",
      "count_of_land_attack 0\n",
      "Count_of_SYN_ACK_Flag_Set 0\n",
      "Count_of_HTTP_Request 0\n",
      "Count_of_HTTP_Response 0\n",
      "Count_of_Small_Packets 0\n",
      "Count_of_Large_Packets 0\n",
      "Count_of_Jumbo_Packets 0\n",
      "Count_of_Invalid_Port_Packets 0\n",
      "Count_of_Packet_Lost 0\n",
      "TCP_Conversation_Stage 0\n",
      "In_Out_Local_Traffic 0\n",
      "Count_of_Same_ip_id_Frames 0\n",
      "Count_of_TCP_OutOfOrder_Packets 0\n",
      "start_timestamp 0\n",
      "end_timestamp 0\n",
      "count_of_syn_with_payload 0\n",
      "count_when_cwr_set_syn_flag_reset 0\n",
      "count_when_ecn_set_syn_flag_reset 0\n",
      "count_of_invalid_tcp_hdr_len 0\n",
      "count_of_read_op 0\n",
      "count_of_write_op 0\n",
      "count_of_other_frame 0\n",
      "count_of_diagnostic_op 0\n",
      "count_of_exception 0\n",
      "avg_MODbus_len 0\n",
      "Unnamed: 95 0\n",
      "Unnamed: 96 0\n",
      "count_of_read_op.1 305106\n",
      "count_of_write_op.1 305106\n",
      "count_of_other_frame.1 305106\n",
      "count_of_diagnostic_op.1 305106\n"
     ]
    }
   ],
   "source": [
    "for col in df:\n",
    "    print(col, df[col].isnull().sum())"
   ]
  },
  {
   "cell_type": "code",
   "execution_count": 43,
   "metadata": {},
   "outputs": [],
   "source": [
    "mode_value = df['count_of_write_op.1'].mode().iloc[0]  \n",
    "df['count_of_write_op.1'].fillna(mode_value, inplace=True) "
   ]
  },
  {
   "cell_type": "code",
   "execution_count": 44,
   "metadata": {},
   "outputs": [],
   "source": [
    "mode_value = df['count_of_read_op.1'].mode().iloc[0]  \n",
    "df['count_of_read_op.1'].fillna(mode_value, inplace=True) "
   ]
  },
  {
   "cell_type": "code",
   "execution_count": 46,
   "metadata": {},
   "outputs": [],
   "source": [
    "mean_value = df['count_of_other_frame.1'].mean()  \n",
    "df['count_of_other_frame.1'].fillna(mean_value, inplace=True)  \n"
   ]
  },
  {
   "cell_type": "code",
   "execution_count": 47,
   "metadata": {},
   "outputs": [],
   "source": [
    "mean_value = df['count_of_diagnostic_op.1'].mean()  \n",
    "df['count_of_diagnostic_op.1'].fillna(mean_value, inplace=True)  "
   ]
  },
  {
   "cell_type": "code",
   "execution_count": 48,
   "metadata": {},
   "outputs": [
    {
     "name": "stdout",
     "output_type": "stream",
     "text": [
      "TopicNo 0\n",
      "DeviceID 0\n",
      "runId 0\n",
      "count_of_frames_received_by_dstport 0\n",
      "segment_max_when_push_flag_set 0\n",
      "ttl_max 0\n",
      "ttl_min 0\n",
      "count_when_reset_and_ack_flag_set 0\n",
      "count_when_fin_or_syn_flag_set 0\n",
      "count_when_fin_and_syn_flag_set 0\n",
      "count_when_fin_flag_set 0\n",
      "count_when_ack_flag_set 0\n",
      "count_when_syn_flag_set 0\n",
      "count_when_reset_flag_set 0\n",
      "count_when_push_flag_set 0\n",
      "count_when_res_flag_set 0\n",
      "count_when_ns_flag_set 0\n",
      "count_when_cwr_flag_set 0\n",
      "count_when_ecn_flag_set 0\n",
      "count_when_urg_flag_set 0\n",
      "count_when_all_flag_not_set 0\n",
      "count_of_retransmitted_frames 0\n",
      "count_of_duplicate_frames 0\n",
      "count_of_BadTcp_frames 0\n",
      "count_of_distinct_ttl 0\n",
      "count_of_frames_sent 0\n",
      "avg_tcp_length 0\n",
      "avg_ip_length 0\n",
      "avg_frame_length 0\n",
      "avg_tcp_hdr_length 0\n",
      "avg_ip_hdr_length 0\n",
      "tcp_srcport 0\n",
      "tcp_dstport 0\n",
      "ip_src 0\n",
      "ip_dst 0\n",
      "ip_src_pair 0\n",
      "ip_dst_pair 0\n",
      "flowindicator 0\n",
      "windowstarttime 0\n",
      "avg_eth_len 0\n",
      "avg_ip_dsfield 0\n",
      "count_of_ip_dsfield_ecn_is_3 0\n",
      "count_when_ip_id_is_zero 0\n",
      "count_of_ip_flags_df_is_set 0\n",
      "count_of_ip_flags_df_is_reset 0\n",
      "count_of_ip_flags_mf_is_set 0\n",
      "count_of_ip_flags_mf_is_reset 0\n",
      "count_of_ip_frag_offset_is_non_zero 0\n",
      "count_of_ip_proto_is_greater_than_144 0\n",
      "count_of_ip_checksum_status_reset 0\n",
      "avg_tcp_window_size_value 0\n",
      "avg_tcp_window_size 0\n",
      "count_of_tcp_checksum_status_reset 0\n",
      "count_protocol_anomaly 0\n",
      "count_unsecure 0\n",
      "protocol_anomaly_count 0\n",
      "protocol_anomaly 211140\n",
      "eth_src 0\n",
      "eth_src_oui_resolved 0\n",
      "eth_dst 0\n",
      "eth_dst_oui_resolved 0\n",
      "count_when_push_urgent_flag_set 0\n",
      "count_when_push_reset_flag_set 0\n",
      "count_of_port_scanned 0\n",
      "count_of_handshake 0\n",
      "count_of_src_ip_sessions 0\n",
      "count_of_dst_ip_sessions 0\n",
      "count_of_repeated_handshake 0\n",
      "count_of_land_attack 0\n",
      "Count_of_SYN_ACK_Flag_Set 0\n",
      "Count_of_HTTP_Request 0\n",
      "Count_of_HTTP_Response 0\n",
      "Count_of_Small_Packets 0\n",
      "Count_of_Large_Packets 0\n",
      "Count_of_Jumbo_Packets 0\n",
      "Count_of_Invalid_Port_Packets 0\n",
      "Count_of_Packet_Lost 0\n",
      "TCP_Conversation_Stage 0\n",
      "In_Out_Local_Traffic 0\n",
      "Count_of_Same_ip_id_Frames 0\n",
      "Count_of_TCP_OutOfOrder_Packets 0\n",
      "start_timestamp 0\n",
      "end_timestamp 0\n",
      "count_of_syn_with_payload 0\n",
      "count_when_cwr_set_syn_flag_reset 0\n",
      "count_when_ecn_set_syn_flag_reset 0\n",
      "count_of_invalid_tcp_hdr_len 0\n",
      "count_of_read_op 0\n",
      "count_of_write_op 0\n",
      "count_of_other_frame 0\n",
      "count_of_diagnostic_op 0\n",
      "count_of_exception 0\n",
      "avg_MODbus_len 0\n",
      "Unnamed: 95 0\n",
      "Unnamed: 96 0\n",
      "count_of_read_op.1 0\n",
      "count_of_write_op.1 0\n",
      "count_of_other_frame.1 0\n",
      "count_of_diagnostic_op.1 0\n"
     ]
    }
   ],
   "source": [
    "for col in df:\n",
    "    print(col, df[col].isnull().sum())"
   ]
  },
  {
   "cell_type": "code",
   "execution_count": null,
   "metadata": {},
   "outputs": [],
   "source": [
    "unnamed_columns = [col for col in df.columns if 'Unnamed' in col]\n",
    "new_column_names = ['NewName1', 'NewName2']\n",
    "df.columns = [new_column_names.pop(0) if col in unnamed_columns else col for col in df.columns]"
   ]
  }
 ],
 "metadata": {
  "kernelspec": {
   "display_name": "Python 3",
   "language": "python",
   "name": "python3"
  },
  "language_info": {
   "codemirror_mode": {
    "name": "ipython",
    "version": 3
   },
   "file_extension": ".py",
   "mimetype": "text/x-python",
   "name": "python",
   "nbconvert_exporter": "python",
   "pygments_lexer": "ipython3",
   "version": "3.11.5"
  },
  "orig_nbformat": 4
 },
 "nbformat": 4,
 "nbformat_minor": 2
}
